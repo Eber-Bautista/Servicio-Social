{
 "cells": [
  {
   "cell_type": "code",
   "execution_count": 3,
   "id": "a0af5368-1537-4467-aa8a-b39123b3a44d",
   "metadata": {},
   "outputs": [],
   "source": [
    "from openket.core.diracobject import *\n",
    "from openket.core.metrics import *\n",
    "import numpy as np\n",
    "import matplotlib.pyplot as plt"
   ]
  },
  {
   "cell_type": "markdown",
   "id": "2d5f7bf3-8d6f-4d02-ae61-46d64777c0eb",
   "metadata": {},
   "source": [
    "# Enredamiento de Formación y Concurrencia\n",
    "\n",
    "Para un estado puro $\\ket{\\Phi}$ de un sistema biparita de qubits, el enredamiento se define como \n",
    "$$E(\\Psi)=-\\sum_i^nc_1^2 \\log_2 c^2_i$$\n",
    "donde los $c_i^2$ son los coeficientes de la descomposición de schmidt.\n",
    "\n",
    "En cambio, al tratar con un estado mezcla $\\rho$, no se tiene una única medida para el enredamiento. En un intento por cuantificar el enredamiento de un estado mezcla de un sistema bipartita, se han formulado tres principales medidas: el enredamiento de formación, el enredamiento de destilación y la entropía relativa de enredamiento. \n",
    "En este notebook se tratará sobre la concurrencia y su relación con el enredamiento por formación.\n",
    "El enredamiento por formación $E_f$ de un estado mezcla $\\rho$ está dado por \n",
    "$$E_f(\\rho)=\\text{inf}\\,\\sum_jp_jE(\\Psi_j)$$\n",
    "donde el ínfimo se toma sobre todas las descomposiciones posibles de $\\rho$:\n",
    "$$\\rho=\\sum_jp_j\\ket{\\Psi_j}\\Bra{\\Psi_j}$$\n",
    "\n",
    "## Concurrencia de estados puros\n",
    "\n",
    "Si bien, el enredamiento de formación tiene una buena motivación física, obtenerlo es complicado. Es por ello que usualmente se emplea otra cantidad que, aunque menos intuitiva, resulta más cómoda al momento de hacer cálculos: la _Concurrencia_. \n",
    "Considere un estado puro de dos qubits expresado en la base estándar como: \n",
    "$$\\ket{\\Psi}=a\\ket{00}+b\\ket{01}+c\\ket{10}+d\\ket{11}$$\n",
    "La concurrencia se define como $C(\\Psi)=2|ad-bc|$.\n",
    "Esta nueva cantidad premite escribir el enredamiento de un estado puro como $E(\\Psi)=\\mathcal{E}(C(\\psi))$, donde\n",
    "$$\\mathcal{E}(C)=h\\left(\\frac{1+\\sqrt{1-C^2}}{2}\\right)$$\n",
    "$$h(x)=-x\\log_2{x}-(1-x)\\log_2{(1-x)}$$\n",
    "\n",
    "La concurrencia se puede generalizar para estados puros de un sistema bipartita de qudits (sistemas cuánticos de dimesión $d\\leq2$ ) como \n",
    "$$C(\\Psi)=\\sqrt{2\\left(1-\\text{tr}(\\rho_A^2)\\right)}$$\n",
    "donde $0\\leq C\\leq1$. \n",
    "\n",
    "Esta fue una de las dos funciones que se programaron"
   ]
  },
  {
   "cell_type": "raw",
   "id": "64097385-8278-4ece-93c0-826420c6073b",
   "metadata": {},
   "source": [
    "def PureConcurrence(state):\n",
    "    state=Normalize(state)\n",
    "    rho=state*Adj(state)\n",
    "    rho_A=TraceOut(rho,'B')\n",
    "    return ((2*(round(1-Trace(rho_A*rho_A),10))))**0.5"
   ]
  },
  {
   "cell_type": "markdown",
   "id": "46e472f8-9504-43b4-b47f-0df5ad2bd5cb",
   "metadata": {},
   "source": [
    "Como primer ejemplo, considere el estado\n",
    "$$\\ket{\\phi_1}=\\ket{0}_A\\ket{1}_B+\\ket{1}_A\\ket{1}_B$$\n",
    "el cual, claramente es factorizable. Note que en este caso, no es necesario normalizar el estado pues la función se puede encargar de eso.\n",
    "Al ser un estado factorizable, la concurrencia deberá ser cero."
   ]
  },
  {
   "cell_type": "code",
   "execution_count": 4,
   "id": "d3cd9b49-4175-4c64-8c66-9652e279a19f",
   "metadata": {},
   "outputs": [
    {
     "name": "stdout",
     "output_type": "stream",
     "text": [
      "0\n"
     ]
    }
   ],
   "source": [
    "phi1=Ket(0,'A')*Ket(1,'B')+Ket(1,'A')*Ket(1,'B')\n",
    "print(PureConcurrence(phi1))"
   ]
  },
  {
   "cell_type": "markdown",
   "id": "df1dbfb1-dc8d-4acb-9720-9f0e6608aa43",
   "metadata": {},
   "source": [
    "Por otro lado, si consideramos uno de los estados de Bell (no normalizados):\n",
    "$$\\ket{\\Psi^+}=\\ket{0}_A\\ket{1}_B+\\ket{1}_A\\ket{0}_B$$"
   ]
  },
  {
   "cell_type": "code",
   "execution_count": 5,
   "id": "ffbf09b9-4391-41e3-a6b7-858d85faaace",
   "metadata": {},
   "outputs": [
    {
     "name": "stdout",
     "output_type": "stream",
     "text": [
      "1.00000000000000\n"
     ]
    }
   ],
   "source": [
    "Psi=Ket(0,'A')*Ket(1,'B')+Ket(1,'A')*Ket(0,'B')\n",
    "print(PureConcurrence(Psi))"
   ]
  },
  {
   "cell_type": "markdown",
   "id": "8c114319-31ca-49f1-b345-44fac8d5f66c",
   "metadata": {},
   "source": [
    "Lo anterior tiene sentido, puesto que la concurrencia alcanza su máximo para estado máximamente enredados (justamente los estados de Bell).\n",
    "Entonces, para cualquier otro estado (no factorizable, ni máximemente enredado), la concurrencia será mayor a cero y menor a uno. Considere como ejemplo el siguiente estado:\n",
    "$$\\ket{\\phi_2}=\\ket{0}_A\\ket{0}_B+2\\ket{1}_A\\ket{0}_B+\\ket{1}_A\\ket{1}_B$$"
   ]
  },
  {
   "cell_type": "code",
   "execution_count": 8,
   "id": "a4fa0937-fd34-4457-b3cd-5729b35d9b83",
   "metadata": {},
   "outputs": [
    {
     "name": "stdout",
     "output_type": "stream",
     "text": [
      "0.333333333461875\n"
     ]
    }
   ],
   "source": [
    "phi2=Ket(0,'A')*Ket(0,'B')+2*Ket(1,'A')*Ket(0,'B')+Ket(1,'A')*Ket(1,'B')\n",
    "print(PureConcurrence(phi2))"
   ]
  },
  {
   "cell_type": "markdown",
   "id": "7cfa1d97-97cd-46e0-b405-6025a8e8cfed",
   "metadata": {},
   "source": [
    "Finalmente, se muestra un ejemplo para calcular la concurrencia de un sistema de qutrits (dimensión $d=3$ ). El estado es:\n",
    "$$\\ket{\\phi^{(3)}}=2\\,\\ket{0}_A\\ket{1}_B+\\ket{1}_A\\ket{0}_B+3\\,\\ket{2}_A\\ket{1}_B$$"
   ]
  },
  {
   "cell_type": "code",
   "execution_count": 9,
   "id": "02e0b46c-804b-4eec-938a-f9ba9c8b55e1",
   "metadata": {},
   "outputs": [
    {
     "name": "stdout",
     "output_type": "stream",
     "text": [
      "0.515078753591083\n"
     ]
    }
   ],
   "source": [
    "phi3=2*Ket(0,'A')*Ket(1,'B')+Ket(1,'A')*Ket(0,'B')+3*Ket(2,'A')*Ket(1,'B')\n",
    "print(PureConcurrence(phi3))"
   ]
  },
  {
   "cell_type": "markdown",
   "id": "d2c79c0e-07cb-4e29-9c75-23cfc9a93195",
   "metadata": {},
   "source": [
    "## Concurrencia de estados mezcla\n",
    "\n",
    "Siguiendo la motivación para el enredamiento de formación, la concurrencia para estados mezcla se define como\n",
    "$$C(\\rho)=\\text{inf} \\sum_j p_j\\,C(\\Psi_j)$$\n",
    "Por fortuna, la concurrencia tiene una fórmula exacta para el caso de un estado mezcla de quibits.\n",
    "$$C(\\rho)=\\text{max}\\{0,\\lambda_1-\\lambda_2-\\lambda_3-\\lambda_4\\}$$\n",
    "donde las $\\lambda_i$'s son las raíces cuadradas de los eigernvalores de $\\rho\\tilde{\\rho}$ en orden descendente. Dónde\n",
    "$\\tilde{\\rho}=(\\sigma_y\\otimes \\sigma_y)\\rho^*(\\sigma_y\\otimes \\sigma_y)$ es el operador conocido como _spin-flip_, con $\\rho^*$ es el complejo conjugado de $\\rho$"
   ]
  },
  {
   "cell_type": "raw",
   "id": "6fd38d6e-f178-4128-9cda-c329ee676b48",
   "metadata": {},
   "source": [
    "def MixConcurrence(rho):\n",
    "    Basis=[Ket(0,'A')*Ket(0,'B'),Ket(1,'A')*Ket(0,'B'),Ket(0,'A')*Ket(1,'B'),Ket(1,'A')*Ket(1,'B')]\n",
    "    My=Qmatrix(Y('A')*Y('B'),Basis)\n",
    "    Mrho=Qmatrix(rho,Basis)\n",
    "    Mrho_=Matrix(conjugate(Mrho))\n",
    "    R=Mrho*My*Mrho_*My\n",
    "    L=R.eigenvals()\n",
    "    L_lista=[]\n",
    "    for l in L:\n",
    "        for i in range(L[l]):\n",
    "            L_lista.append((round(float(l),10)**2)**0.25)\n",
    "    L_lista.sort(reverse=True)\n",
    "    C=max(0,L_lista[0]-L_lista[1]-L_lista[2]-L_lista[3])\n",
    "    return C\n"
   ]
  },
  {
   "cell_type": "markdown",
   "id": "7ae236f2-fc36-4746-9341-a682502e5fd4",
   "metadata": {},
   "source": [
    "Como primer ejemplo, se calculará la concurrencia del estado \n",
    "$$\\rho_1=\\frac{1}{4}\\,\\ket{\\phi_1}\\bra{\\phi_1}+\\frac{3}{4}\\,\\ket{\\phi_2}\\bra{\\phi_2}$$\n",
    "donde $\\ket{\\phi_i}\\, (i=1,2)$ son los estados puros (ahora normalizados) usados en los ejemplos mostrados arriba"
   ]
  },
  {
   "cell_type": "code",
   "execution_count": 10,
   "id": "69025df6-1abd-4b6f-9710-d7cc31a0a63a",
   "metadata": {},
   "outputs": [
    {
     "name": "stdout",
     "output_type": "stream",
     "text": [
      "0.125000000000000|0_A>|1_B><1_B|<0_A| + 0.125000000000000|0_A>|1_B><1_B|<1_A| + 0.125000000000000|0_A>|0_B><0_B|<0_A| + 0.250000000000000|0_A>|0_B><0_B|<1_A| + 0.125000000000000|0_A>|0_B><1_B|<1_A| + 0.125000000000000|1_A>|1_B><1_B|<0_A| + 0.250000000000000|1_A>|1_B><1_B|<1_A| + 0.250000000000000|1_A>|0_B><0_B|<0_A| + 0.500000000000000|1_A>|0_B><0_B|<1_A| + 0.250000000000000|1_A>|0_B><1_B|<1_A| + 0.125000000000000|1_A>|1_B><0_B|<0_A| + 0.250000000000000|1_A>|1_B><0_B|<1_A|\n"
     ]
    }
   ],
   "source": [
    "Phi1=Normalize(phi1)\n",
    "Phi2=Normalize(phi2)\n",
    "rho1=(1/4)*Phi1*Adj(Phi1)+(3/4)*Phi2*Adj(Phi2)\n",
    "print(rho1)"
   ]
  },
  {
   "cell_type": "code",
   "execution_count": 11,
   "id": "3efa81c4-665d-4e2b-8dc4-5e1087fa3ab2",
   "metadata": {},
   "outputs": [
    {
     "name": "stdout",
     "output_type": "stream",
     "text": [
      "0.24999999972666964\n"
     ]
    }
   ],
   "source": [
    "print(MixConcurrence(rho1))"
   ]
  },
  {
   "cell_type": "markdown",
   "id": "32c72895-8fa9-41f3-8326-afaa6201ced1",
   "metadata": {},
   "source": [
    "Y como un último ejemplo compararemos la concurrencia de los estados\n",
    "$$\\rho_2=p\\,\\ket{\\Psi^+}\\Bra{\\Psi^+}+(1-p)\\,\\ket{00}\\bra{00}$$\n",
    "$$\\rho_3=p\\,\\ket{\\Psi^+}\\Bra{\\Psi^+}+(1-p)\\,\\ket{00}\\bra{11}$$\n",
    "para diferentes valores de $p$"
   ]
  },
  {
   "cell_type": "code",
   "execution_count": 31,
   "id": "892ff81a-621c-4abd-b601-d108854ac59e",
   "metadata": {},
   "outputs": [
    {
     "data": {
      "text/plain": [
       "<matplotlib.legend.Legend at 0x7e28f07292b0>"
      ]
     },
     "execution_count": 31,
     "metadata": {},
     "output_type": "execute_result"
    },
    {
     "data": {
      "image/png": "[encoded data removed]",
      "text/plain": [
       "<Figure size 640x480 with 1 Axes>"
      ]
     },
     "metadata": {},
     "output_type": "display_data"
    }
   ],
   "source": [
    "PSI=Normalize(Psi)*Adj(Normalize(phi))\n",
    "def Concurrencia2(p):\n",
    "    estado=p*PSI+(1-p)*Ket(0,'A')*Ket(0,'B')*Bra(0,'A')*Bra(0,'B')\n",
    "    return MixConcurrence(estado)\n",
    "def Concurrencia3(p):\n",
    "    estado=p*PSI+(1-p)*Ket(0,'A')*Ket(0,'B')*Bra(1,'A')*Bra(1,'B')\n",
    "    return MixConcurrence(estado)\n",
    "C1,C2=[],[]\n",
    "P=np.linspace(0,1,100)\n",
    "for p in P:\n",
    "    C1.append(Concurrencia2(p))\n",
    "    C2.append(Concurrencia3(p))\n",
    "plt.plot(P,C1,label='|00><00|')\n",
    "plt.plot(P,C2,label='|00><11|')\n",
    "plt.xlabel('Probabilidad $p$' )\n",
    "plt.ylabel('Concurrencia')\n",
    "plt.legend()"
   ]
  },
  {
   "cell_type": "code",
   "execution_count": null,
   "id": "3639439f-a823-4309-a5c0-d2a445493a1e",
   "metadata": {},
   "outputs": [],
   "source": []
  }
 ],
 "metadata": {
  "kernelspec": {
   "display_name": "Entorno1",
   "language": "python",
   "name": "entorno1"
  },
  "language_info": {
   "codemirror_mode": {
    "name": "ipython",
    "version": 3
   },
   "file_extension": ".py",
   "mimetype": "text/x-python",
   "name": "python",
   "nbconvert_exporter": "python",
   "pygments_lexer": "ipython3",
   "version": "3.12.3"
  }
 },
 "nbformat": 4,
 "nbformat_minor": 5
}
